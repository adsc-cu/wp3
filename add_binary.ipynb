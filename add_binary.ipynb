{
 "cells": [
  {
   "cell_type": "markdown",
   "metadata": {},
   "source": [
    "Given two binary strings, return their sum (also a binary string).\n",
    "\n",
    "The input strings are both non-empty and contains only characters 1 or 0.\n",
    "\n",
    "Example 1:\n",
    "\n",
    "Input: a = \"11\", b = \"1\"\n",
    "Output: \"100\"\n",
    "Example 2:\n",
    "\n",
    "Input: a = \"1010\", b = \"1011\"\n",
    "Output: \"10101\""
   ]
  },
  {
   "cell_type": "code",
   "execution_count": 1,
   "metadata": {},
   "outputs": [],
   "source": [
    "class Solution:\n",
    "    global bin2num\n",
    "    def bin2num(str_):\n",
    "        sum_ = 0\n",
    "        bin_list = list(str_)\n",
    "        end = len(bin_list)\n",
    "        power = end-1\n",
    "        for i in range(end):\n",
    "            if power > -1:\n",
    "                sum_ = sum_ + (2**power) * int(bin_list[i])\n",
    "                power = power - 1\n",
    "            else:\n",
    "                break\n",
    "        return sum_\n",
    "    \n",
    "    global num2bin\n",
    "    def num2bin(num_):\n",
    "        rem_list = []\n",
    "        quo = num_\n",
    "        \n",
    "        while quo > 0:\n",
    "            rem_list.append(str(quo % 2))\n",
    "            quo = int(quo/2)\n",
    "        \n",
    "        return ''.join(rem_list[::-1])\n",
    "            \n",
    "    \n",
    "    def addBinary(self, a, b):\n",
    "        self.a = a\n",
    "        self.b = b\n",
    "        num_a = bin2num(self.a)\n",
    "        num_b = bin2num(self.b)\n",
    "        num_c = num_a + num_b\n",
    "        output = num2bin(num_c)\n",
    "        \n",
    "        return output        "
   ]
  },
  {
   "cell_type": "code",
   "execution_count": 2,
   "metadata": {},
   "outputs": [
    {
     "data": {
      "text/plain": [
       "'100'"
      ]
     },
     "execution_count": 2,
     "metadata": {},
     "output_type": "execute_result"
    }
   ],
   "source": [
    "x = Solution()\n",
    "x.addBinary('11', '1')"
   ]
  }
 ],
 "metadata": {
  "kernelspec": {
   "display_name": "Python 3",
   "language": "python",
   "name": "python3"
  },
  "language_info": {
   "codemirror_mode": {
    "name": "ipython",
    "version": 3
   },
   "file_extension": ".py",
   "mimetype": "text/x-python",
   "name": "python",
   "nbconvert_exporter": "python",
   "pygments_lexer": "ipython3",
   "version": "3.5.3"
  }
 },
 "nbformat": 4,
 "nbformat_minor": 2
}
