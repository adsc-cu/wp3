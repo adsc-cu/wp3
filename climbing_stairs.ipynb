{
 "cells": [
  {
   "cell_type": "markdown",
   "metadata": {},
   "source": [
    "You are climbing a stair case. It takes n steps to reach to the top.\n",
    "\n",
    "Each time you can either climb 1 or 2 steps. In how many distinct ways can you climb to the top?\n",
    "\n",
    "Note: Given n will be a positive integer.\n",
    "\n",
    "Example 1:\n",
    "\n",
    "Input: 2\n",
    "Output: 2\n",
    "Explanation: There are two ways to climb to the top.\n",
    "1. 1 step + 1 step\n",
    "2. 2 steps\n",
    "Example 2:\n",
    "\n",
    "Input: 3\n",
    "Output: 3\n",
    "Explanation: There are three ways to climb to the top.\n",
    "1. 1 step + 1 step + 1 step\n",
    "2. 1 step + 2 steps"
   ]
  },
  {
   "cell_type": "code",
   "execution_count": 1,
   "metadata": {
    "collapsed": true
   },
   "outputs": [],
   "source": [
    "# Add autotime of each block\n",
    "%load_ext autotime"
   ]
  },
  {
   "cell_type": "code",
   "execution_count": 2,
   "metadata": {},
   "outputs": [
    {
     "name": "stdout",
     "output_type": "stream",
     "text": [
      "time: 52.7 ms\n"
     ]
    }
   ],
   "source": [
    "import itertools"
   ]
  },
  {
   "cell_type": "code",
   "execution_count": 3,
   "metadata": {},
   "outputs": [
    {
     "name": "stdout",
     "output_type": "stream",
     "text": [
      "time: 77.1 ms\n"
     ]
    }
   ],
   "source": [
    "class Solution:\n",
    "    \n",
    "    global combo\n",
    "    def combo(n):\n",
    "        one = n\n",
    "        two = 0\n",
    "        #empty list of tuples (x, y) in which x is the number of ones and y is\n",
    "        # the number of twos. One means one step and Two means two step jump.\n",
    "        list_tuples = []\n",
    "        #if else for number of possible tuples\n",
    "        if n % 2 == 0:\n",
    "            ele = n/2 + 1\n",
    "        else:\n",
    "            ele = int(n/2) + n % 2\n",
    "        for i in range(ele):\n",
    "            if one >= 0 and two >= 0:\n",
    "                list_tuples.append((one, two))\n",
    "                one = one - 2\n",
    "                two = two + 1\n",
    "            else:\n",
    "                break\n",
    "        return list_tuples\n",
    "    \n",
    "    def climbStairs(self, n):\n",
    "        self.n = n\n",
    "        pos_combo = combo(self.n)\n",
    "        \n",
    "        pos_steps = []\n",
    "        for i in pos_combo:\n",
    "            list_ = [1]*i[0]+[2]*i[1]\n",
    "            #permutations for \n",
    "            permut_list = list(set(itertools.permutations(list_)))\n",
    "            for permut in permut_list:\n",
    "                pos_steps.append(['step ' + str(x) for x in permut])\n",
    "        output = []\n",
    "        for i in pos_steps:\n",
    "            output.append(' + '.join(i))\n",
    "        return output"
   ]
  },
  {
   "cell_type": "code",
   "execution_count": 4,
   "metadata": {},
   "outputs": [
    {
     "name": "stdout",
     "output_type": "stream",
     "text": [
      "0 .  step 1 + step 1 + step 1\n",
      "1 .  step 1 + step 2\n",
      "2 .  step 2 + step 1\n",
      "time: 148 ms\n"
     ]
    }
   ],
   "source": [
    "x = Solution()\n",
    "o = x.climbStairs(3)\n",
    "for i in range(len(o)):\n",
    "    print(i, '. ', o[i])"
   ]
  }
 ],
 "metadata": {
  "kernelspec": {
   "display_name": "Python 3",
   "language": "python",
   "name": "python3"
  },
  "language_info": {
   "codemirror_mode": {
    "name": "ipython",
    "version": 3
   },
   "file_extension": ".py",
   "mimetype": "text/x-python",
   "name": "python",
   "nbconvert_exporter": "python",
   "pygments_lexer": "ipython3",
   "version": "3.5.3"
  }
 },
 "nbformat": 4,
 "nbformat_minor": 2
}
